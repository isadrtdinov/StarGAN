{
 "cells": [
  {
   "cell_type": "markdown",
   "metadata": {
    "id": "nHiKtpAXa_Km"
   },
   "source": [
    "## Важно:\n",
    "\n",
    "Пожалуйста, поддерживайте ваш код в хорошем состоянии, пишите комментарии, убирайте бесполезные ячейки, пишите модели в специально отведенных модулях. Проверяющие могут **НА СВОЕ УСМОТРЕНИЕ** снижать баллы за:\n",
    "\n",
    "1. Говнокод\n",
    "2. Неэффективные решения\n",
    "3. Вермишель из ячеек в тетрадке\n",
    "4. Все остальное что им не понравилось\n"
   ]
  },
  {
   "cell_type": "markdown",
   "metadata": {
    "id": "cSNzxKyKa_Ku"
   },
   "source": [
    "## Важно 2 (0 - 0.15 балла):\n",
    "\n",
    "За использование логгеров типа wandb/comet/neptune и красивую сборку этой домашки в виде графиков/картинок в этих логгерах мы будем выдавать бонусные баллы.\n",
    "\n"
   ]
  },
  {
   "cell_type": "markdown",
   "metadata": {
    "id": "uf0rvq2Za_Kv"
   },
   "source": [
    "## Важно 3:\n",
    "\n",
    "Решением домашки является архив с использованными тетрадками/модулями, а так же **.pdf файл** с отчетом по проделанной работе по каждому пункту задачи. \n",
    "В нем необходимо описать какие эксперименты вы производили чтобы получить результат который вы получили, а так же обосновать почему вы решили использовать штуки которые вы использовали (например дополнительные лоссы для стабилизации, WGAN-GP, а не GAN/WGAN+clip)\n"
   ]
  },
  {
   "cell_type": "code",
   "execution_count": 1,
   "metadata": {
    "colab": {
     "base_uri": "https://localhost:8080/"
    },
    "id": "-oy6pJPXFZQs",
    "outputId": "9b2dd0f6-ee81-484f-831d-5d11e6b98087"
   },
   "outputs": [
    {
     "name": "stderr",
     "output_type": "stream",
     "text": [
      "Cloning into 'StarGAN'...\n"
     ]
    }
   ],
   "source": [
    "%%bash\n",
    "rm -rf model/\n",
    "git clone https://github.com/isadrtdinov/StarGAN.git\n",
    "mv StarGAN/* .\n",
    "rm -r StarGAN/"
   ]
  },
  {
   "cell_type": "code",
   "execution_count": 3,
   "metadata": {
    "id": "sbdo1pmna_Kw"
   },
   "outputs": [],
   "source": [
    "import numpy as np\n",
    "import torchvision\n",
    "import torchvision.transforms as T\n",
    "\n",
    "import torch\n",
    "from torch import nn\n",
    "from torch.nn import functional as F\n",
    "\n",
    "import os\n",
    "import wandb\n",
    "from tqdm import tqdm\n",
    "from IPython.display import clear_output\n",
    "\n",
    "import matplotlib.pyplot as plt\n",
    "%matplotlib inline"
   ]
  },
  {
   "cell_type": "code",
   "execution_count": null,
   "metadata": {
    "id": "PdHkFHDAGEiX"
   },
   "outputs": [],
   "source": [
    "from config import Params\n",
    "import utils\n",
    "\n",
    "params = Params()\n",
    "utils.set_random_seed(params.random_seed)\n",
    "wandb.init(project=params.project, config=params.__dict__)\n",
    "device = torch.device('cuda:0' if torch.cuda.is_available() else 'cpu')"
   ]
  },
  {
   "cell_type": "markdown",
   "metadata": {
    "id": "o_wjwvjia_Kx"
   },
   "source": [
    "В этом домашнем задании мы будем работать с Celeba. Celeba - это уже известный вам датасет состоящий из фотографий селеб в их привычной местности:"
   ]
  },
  {
   "cell_type": "code",
   "execution_count": 6,
   "metadata": {
    "id": "lMIFNznJH0ih"
   },
   "outputs": [],
   "source": [
    "from dataset import CelebA"
   ]
  },
  {
   "cell_type": "code",
   "execution_count": 7,
   "metadata": {
    "id": "ke06U-Wra_Kx"
   },
   "outputs": [],
   "source": [
    "transform = T.Compose([\n",
    "    T.RandomHorizontalFlip(0.5),\n",
    "    T.CenterCrop(params.crop_size),\n",
    "    T.Resize(params.img_size),\n",
    "    T.ToTensor(),\n",
    "    T.Normalize([0.5, 0.5, 0.5], [0.5, 0.5, 0.5])\n",
    "])"
   ]
  },
  {
   "cell_type": "code",
   "execution_count": 8,
   "metadata": {
    "colab": {
     "base_uri": "https://localhost:8080/"
    },
    "id": "CqKc0I2Ca_Kx",
    "outputId": "6edae737-f1ad-45b0-c820-1ab08a05f0de"
   },
   "outputs": [
    {
     "name": "stderr",
     "output_type": "stream",
     "text": [
      "/usr/local/lib/python3.7/dist-packages/torch/utils/data/dataloader.py:477: UserWarning: This DataLoader will create 8 worker processes in total. Our suggested max number of worker in current system is 2, which is smaller than what this DataLoader is going to create. Please be aware that excessive worker creation might get DataLoader running slow or even freeze, lower the worker number to avoid potential slowness/freeze if necessary.\n",
      "  cpuset_checked))\n"
     ]
    }
   ],
   "source": [
    "train_dataset = CelebA('celeba', attributes=params.attributes, target_type='attr',\n",
    "                       split='train', transform=transform, download=False)\n",
    "test_dataset = CelebA('celeba', attributes=params.attributes, target_type='attr',\n",
    "                      split='test', transform=transform, download=False)\n",
    "\n",
    "train_loader = torch.utils.data.DataLoader(train_dataset, batch_size=params.batch_size,\n",
    "                                           shuffle=True, drop_last=True, pin_memory=True,\n",
    "                                           num_workers=params.num_workers)\n",
    "test_loader = torch.utils.data.DataLoader(test_dataset, batch_size=params.batch_size,\n",
    "                                           shuffle=True, drop_last=True, pin_memory=True,\n",
    "                                           num_workers=params.num_workers)"
   ]
  },
  {
   "cell_type": "code",
   "execution_count": 9,
   "metadata": {
    "colab": {
     "base_uri": "https://localhost:8080/"
    },
    "id": "C3dHtRnJ8k3-",
    "outputId": "c7145b71-d6b8-4172-bc19-650e1f2879f3"
   },
   "outputs": [
    {
     "name": "stdout",
     "output_type": "stream",
     "text": [
      "Mounted at /content/drive/\n"
     ]
    }
   ],
   "source": [
    "from google.colab import drive\n",
    "drive.mount('/content/drive/')\n",
    "checkpoint_root = '/content/drive/MyDrive/checkpoints'"
   ]
  },
  {
   "cell_type": "markdown",
   "metadata": {
    "id": "d6XaCpk-a_K0"
   },
   "source": [
    "В этой домашней работе вам предлагается повторить результаты статьи StarGAN (https://arxiv.org/abs/1711.09020). \n",
    "\n",
    "Основная часть домашнего задания - чтение статьи и улучшение результатов, поэтому обязательно прочитайте не только StarGAN, но и другие Image-to-Image GAN подходы того времени (17-18 год) \n"
   ]
  },
  {
   "cell_type": "markdown",
   "metadata": {
    "id": "H5GbNuQ4a_K1"
   },
   "source": [
    "## Задача 1 (0.4 балла):\n",
    "\n",
    "Повторить результаты StarGAN используя только CelebA\n",
    "\n",
    "что это значит: в статье предлагается способ использовать несколько датасетов и выучивание аттрибутов уникальных для какого-то одного датасета. Мы не просим вас это делать, вам достаточно просто обучить StarGAN на CelebA"
   ]
  },
  {
   "cell_type": "code",
   "execution_count": 10,
   "metadata": {
    "id": "UaHjccYoa_K1"
   },
   "outputs": [],
   "source": [
    "from model.stargan import StarGAN\n",
    "from model.fid import FrechetInceptionDistance\n",
    "\n",
    "model = StarGAN(params, device)\n",
    "wandb.watch([model.net_G, model.net_D])\n",
    "fid = FrechetInceptionDistance(device, batch_size=params.batch_size)"
   ]
  },
  {
   "cell_type": "code",
   "execution_count": 11,
   "metadata": {
    "id": "JMKAPKmPIh_1"
   },
   "outputs": [],
   "source": [
    "model.load_checkpoint(os.path.join(checkpoint_root, params.checkpoint_template.format(46)))"
   ]
  },
  {
   "cell_type": "code",
   "execution_count": null,
   "metadata": {
    "id": "z3I746zJ69PW"
   },
   "outputs": [],
   "source": [
    "orig_images, example_images, example_labels = \\\n",
    "    utils.generate_examples(test_dataset, example_ids=params.example_ids,\n",
    "                            example_domains=params.example_domains)"
   ]
  },
  {
   "cell_type": "code",
   "execution_count": null,
   "metadata": {
    "id": "d8Rc6Y4Ta_K1"
   },
   "outputs": [],
   "source": [
    "for epoch in range(41, params.num_epochs + 1):\n",
    "    model.train()\n",
    "    for real_images, src_labels in tqdm(train_loader, desc=f'Epoch {epoch}/{params.num_epochs}'):\n",
    "        trg_labels = utils.permute_labels(src_labels)\n",
    "        model.train_D(real_images, src_labels, trg_labels)\n",
    "        model.train_G(real_images, src_labels, trg_labels)\n",
    "\n",
    "        if model.train_step % params.log_steps == 0:\n",
    "            wandb.log(model.metrics)\n",
    "    \n",
    "    if epoch % params.valid_epochs == 0:\n",
    "        fid_score = fid.fid_score(model, test_loader)\n",
    "        generated_images = model.generate(example_images, example_labels).cpu()\n",
    "        example_grid = utils.process_examples(orig_images, generated_images,\n",
    "                                              params.example_domains)\n",
    "\n",
    "        wandb.log({\n",
    "            'example': wandb.Image(example_grid),\n",
    "            'FID score': fid_score,\n",
    "            'train step': model.train_step,\n",
    "            'epoch': epoch\n",
    "        })\n",
    "    \n",
    "    if epoch % params.checkpoint_epochs == 0:\n",
    "        checkpoint_file = params.checkpoint_template.format(epoch)\n",
    "        model.save_checkpoint(os.path.join(checkpoint_root, checkpoint_file))\n",
    "\n",
    "    clear_output()"
   ]
  },
  {
   "cell_type": "markdown",
   "metadata": {
    "id": "uOHLwh8Oa_K2"
   },
   "source": [
    "## Важно 4: \n",
    "\n",
    "Если вы учите на колабе или на наших машинках, вероятнее всего что обучение будет очень долгим на картинках 256х256. Никто не мешает уменьшить разрешение, главное чтобы было видно что трансформации выучились\n",
    "\n",
    "Еще, кажется что не все аттрибуты селебы являются очень важными или достаточно представленными в датасете. Не запрещается убирать бесполезные аттрибуты (только обоснуйте почему так сделали в отчете)\n",
    "\n",
    "Не забывайте про аугментации\n",
    "\n",
    "## Важно 5: \n",
    "\n",
    "Да, мы знаем что в на гитхабе лежить готовый код на путорче для этой статьи. Проблема в том что он написал на torch 0.4, поэтому, если мы увидим что вы используете __старый__ код со старыми модулями, то мы:\n",
    "\n",
    "1. Будем неодобрительно смотреть\n",
    "2. За наглое списывание будем снимать баллы\n"
   ]
  },
  {
   "cell_type": "markdown",
   "metadata": {
    "id": "pqxaT3UTa_K2"
   },
   "source": [
    "## Задача 2 (0.2 балла): \n",
    "\n",
    "Мерить качество на глаз - плохая идея. Подключите подсчет FID для каждой N эпохи, чтобы вы могли следить за прогрессом модели.\n",
    "\n",
    "Сранение моделей между собой тоже возможно только по FID, поэтому трекайте его когда будете делать другие эксперименты"
   ]
  },
  {
   "cell_type": "markdown",
   "metadata": {
    "id": "7FYhjpNta_K2"
   },
   "source": [
    "## Задача 3 (0.4 балла):\n",
    "\n",
    "Если вы будете дословно повторять архитектуру авторов статьи, вы сразу же увидите что обучение станет дико долгим и не очень стабильным. Возможно у вас получится предложить несколько улучшений, которые приведут к хорошему FID, к визуально лучшим результатам или к более стабильному обучению.\n",
    "\n",
    "В этой задаче хочется чтобы вы попробовали улучшить результаты статьи используя либо то что уже знаете, либо что-то из релевантных статей по Im2Im современности"
   ]
  },
  {
   "cell_type": "markdown",
   "metadata": {
    "id": "d0tpQtzua_K2"
   },
   "source": [
    "## Важно 6: \n",
    "\n",
    "Когда вы будете показывать визуальные трансформации которые делает ваш StarGAN, хорошей идеей будет сразу же зафиксировать набор картинок (очевидно из валидации) и набор трансформаций на которых вы будете показывать результаты. Например: 10 картинок разных людей на которых вы покажете Male-Female, Beard-noBeard, Old-Young трансформации"
   ]
  },
  {
   "cell_type": "markdown",
   "metadata": {
    "id": "V1LBhbpNa_K3"
   },
   "source": [
    "## Важно 7 (0.15 балла): \n",
    "\n",
    "Выдам дополнительные баллы если у вас получится визуально красивая перекраска волос в разные цвета"
   ]
  }
 ],
 "metadata": {
  "accelerator": "GPU",
  "colab": {
   "name": "DGM-HW2.ipynb",
   "provenance": [],
   "toc_visible": true
  },
  "kernelspec": {
   "display_name": "Python 3",
   "language": "python",
   "name": "python3"
  },
  "language_info": {
   "codemirror_mode": {
    "name": "ipython",
    "version": 3
   },
   "file_extension": ".py",
   "mimetype": "text/x-python",
   "name": "python",
   "nbconvert_exporter": "python",
   "pygments_lexer": "ipython3",
   "version": "3.9.0"
  }
 },
 "nbformat": 4,
 "nbformat_minor": 1
}
